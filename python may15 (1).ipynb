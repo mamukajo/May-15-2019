{
 "cells": [
  {
   "cell_type": "markdown",
   "metadata": {},
   "source": [
    "### pakages and modules\n",
    "\n",
    "\n",
    "package clloection of python scripts (.py)\n",
    " \n",
    " module - a python scripts"
   ]
  },
  {
   "cell_type": "code",
   "execution_count": 3,
   "metadata": {},
   "outputs": [
    {
     "ename": "NameError",
     "evalue": "name 'PythonScripts' is not defined",
     "output_type": "error",
     "traceback": [
      "\u001b[1;31m---------------------------------------------------------------------------\u001b[0m",
      "\u001b[1;31mNameError\u001b[0m                                 Traceback (most recent call last)",
      "\u001b[1;32m<ipython-input-3-c713c1d317c2>\u001b[0m in \u001b[0;36m<module>\u001b[1;34m\u001b[0m\n\u001b[0;32m      1\u001b[0m \u001b[1;32mfrom\u001b[0m \u001b[0mPythonScripts\u001b[0m\u001b[1;33m.\u001b[0m\u001b[0mtest\u001b[0m \u001b[1;32mimport\u001b[0m \u001b[0mfactorial\u001b[0m\u001b[1;33m\u001b[0m\u001b[1;33m\u001b[0m\u001b[0m\n\u001b[1;32m----> 2\u001b[1;33m \u001b[0mPythonScripts\u001b[0m\u001b[1;33m.\u001b[0m\u001b[0mtest\u001b[0m\u001b[1;33m.\u001b[0m\u001b[0mfactorial\u001b[0m\u001b[1;33m(\u001b[0m\u001b[1;36m5\u001b[0m\u001b[1;33m)\u001b[0m\u001b[1;33m\u001b[0m\u001b[1;33m\u001b[0m\u001b[0m\n\u001b[0m",
      "\u001b[1;31mNameError\u001b[0m: name 'PythonScripts' is not defined"
     ]
    }
   ],
   "source": [
    "from PythonScripts.test import factorial\n",
    "PythonScripts.test.factorial(5)\n"
   ]
  },
  {
   "cell_type": "markdown",
   "metadata": {},
   "source": [
    "# phone number validation using regular expression"
   ]
  },
  {
   "cell_type": "code",
   "execution_count": 4,
   "metadata": {},
   "outputs": [
    {
     "name": "stdout",
     "output_type": "stream",
     "text": [
      "match\n"
     ]
    }
   ],
   "source": [
    "import re\n",
    "pattern='^[0-9]{10}$'\n",
    "domain='9955441100'\n",
    "if re.match(pattern,domain):\n",
    "    print('match')\n",
    "else:\n",
    "    print('does not match')"
   ]
  },
  {
   "cell_type": "code",
   "execution_count": 17,
   "metadata": {},
   "outputs": [
    {
     "name": "stdout",
     "output_type": "stream",
     "text": [
      "match\n"
     ]
    }
   ],
   "source": [
    "import re\n",
    "pattern='^[+][9][1][6-9][0-9]{9}$'\n",
    "domain='+916955441100'\n",
    "if re.match(pattern,domain):\n",
    "    print('match')\n",
    "else:\n",
    "    print('does not match')"
   ]
  },
  {
   "cell_type": "code",
   "execution_count": 19,
   "metadata": {},
   "outputs": [
    {
     "name": "stdout",
     "output_type": "stream",
     "text": [
      "match\n"
     ]
    }
   ],
   "source": [
    "import re\n",
    "pattern='^[+][9][1][ ][6-9][0-9]{9}$'\n",
    "domain='+91 6955441100'\n",
    "if re.match(pattern,domain):\n",
    "    print('match')\n",
    "else:\n",
    "    print('does not match')"
   ]
  },
  {
   "cell_type": "code",
   "execution_count": 15,
   "metadata": {},
   "outputs": [
    {
     "name": "stdout",
     "output_type": "stream",
     "text": [
      "does not match\n"
     ]
    }
   ],
   "source": [
    "import re\n",
    "pattern='^[+][9][1][6-9][0-9]{9}$'\n",
    "domain='6955441100'\n",
    "if re.match(pattern,domain):\n",
    "    print('match')\n",
    "else:\n",
    "    print('does not match')"
   ]
  },
  {
   "cell_type": "code",
   "execution_count": null,
   "metadata": {},
   "outputs": [],
   "source": [
    "import re\n",
    "pattern='^[6-9][0-9]{9}$'\n",
    "domain='6955441100'\n",
    "if re.match(pattern,domain):\n",
    "    print('match')\n",
    "else:\n",
    "    print('does not match')"
   ]
  },
  {
   "cell_type": "code",
   "execution_count": 14,
   "metadata": {},
   "outputs": [
    {
     "name": "stdout",
     "output_type": "stream",
     "text": [
      "does not match\n"
     ]
    }
   ],
   "source": [
    "import re\n",
    "pattern='^[6-9][0-9]{9}$'\n",
    "domain='955441100'\n",
    "if re.match(pattern,domain):\n",
    "    print('match')\n",
    "else:\n",
    "    print('does not match')"
   ]
  },
  {
   "cell_type": "markdown",
   "metadata": {},
   "source": [
    "# postal code validation using regular expression"
   ]
  },
  {
   "cell_type": "code",
   "execution_count": 5,
   "metadata": {},
   "outputs": [
    {
     "name": "stdout",
     "output_type": "stream",
     "text": [
      "does not match\n"
     ]
    }
   ],
   "source": [
    "import re\n",
    "pattern='^[0-9]{10}$'\n",
    "domain='32168.68798'\n",
    "if re.match(pattern,domain):\n",
    "    print('match')\n",
    "else:\n",
    "    print('does not match')"
   ]
  },
  {
   "cell_type": "code",
   "execution_count": 10,
   "metadata": {},
   "outputs": [
    {
     "name": "stdout",
     "output_type": "stream",
     "text": [
      "does not match\n"
     ]
    }
   ],
   "source": [
    "import re\n",
    "pattern='^[1-9][0-9]{5}$'\n",
    "domain='021689'\n",
    "if re.match(pattern,domain):\n",
    "    print('match')\n",
    "else:\n",
    "    print('does not match')"
   ]
  },
  {
   "cell_type": "code",
   "execution_count": null,
   "metadata": {},
   "outputs": [],
   "source": []
  },
  {
   "cell_type": "markdown",
   "metadata": {},
   "source": [
    "## e-mail validation using regular expressions"
   ]
  },
  {
   "cell_type": "code",
   "execution_count": 20,
   "metadata": {},
   "outputs": [
    {
     "name": "stdout",
     "output_type": "stream",
     "text": [
      "match\n"
     ]
    }
   ],
   "source": [
    "import re \n",
    "pattern='^[a-z]{1,15}[.a-z0-9]{1,15}[@][a-z]{1,5}[.][a-z]{1,3}$'\n",
    "domain='jhansi.4300@gmail.com'\n",
    "if re.match(pattern,domain):\n",
    "    print('match')\n",
    "else:\n",
    "    print('does not match')"
   ]
  },
  {
   "cell_type": "code",
   "execution_count": 21,
   "metadata": {},
   "outputs": [
    {
     "name": "stdout",
     "output_type": "stream",
     "text": [
      "does not match\n"
     ]
    }
   ],
   "source": [
    "import re \n",
    "pattern='^[a-z]{1,15}[.a-z0-9]{1,15}[@][a-z]{1,5}[.][a-z]{1,3}$'\n",
    "domain='4300.4300@gmail.com'\n",
    "if re.match(pattern,domain):\n",
    "    print('match')\n",
    "else:\n",
    "    print('does not match')"
   ]
  },
  {
   "cell_type": "markdown",
   "metadata": {},
   "source": [
    "## password validation using regular expression"
   ]
  },
  {
   "cell_type": "markdown",
   "metadata": {},
   "source": [
    "## explanation\n",
    "#####  rules\n",
    "* it should contain 1 upper case letter\n",
    "* length should be in the range of(6,21)\n",
    "* should contain atleast 1 special charecter\n",
    "* should start with an uppercase or lowercase\n",
    "* should contain atleast 1 digits"
   ]
  },
  {
   "cell_type": "code",
   "execution_count": null,
   "metadata": {},
   "outputs": [],
   "source": [
    "[A-Za-z][a-zA-Z0-9@#!$%^&*]{7,21}"
   ]
  },
  {
   "cell_type": "code",
   "execution_count": null,
   "metadata": {},
   "outputs": [],
   "source": []
  },
  {
   "cell_type": "markdown",
   "metadata": {},
   "source": [
    "### iteration in python \n",
    "\n",
    "lists,tuples,strings\n"
   ]
  },
  {
   "cell_type": "code",
   "execution_count": 22,
   "metadata": {},
   "outputs": [
    {
     "data": {
      "text/plain": [
       "3"
      ]
     },
     "execution_count": 22,
     "metadata": {},
     "output_type": "execute_result"
    }
   ],
   "source": [
    "li=[1,2,3,4,5,6]\n",
    "\n",
    "type(li)\n",
    "it=iter(li)\n",
    "type(it)\n",
    "next(it)\n",
    "next(it)\n",
    "next(it)"
   ]
  },
  {
   "cell_type": "code",
   "execution_count": 27,
   "metadata": {},
   "outputs": [
    {
     "name": "stdout",
     "output_type": "stream",
     "text": [
      "1\n",
      "2\n",
      "3\n",
      "4\n",
      "5\n",
      "6\n"
     ]
    }
   ],
   "source": [
    "li=[1,2,3,4,5,6]\n",
    "\n",
    "type(li)\n",
    "it=iter(li)\n",
    "type(it)\n",
    "for i in it:\n",
    "    print(i)"
   ]
  },
  {
   "cell_type": "code",
   "execution_count": null,
   "metadata": {},
   "outputs": [],
   "source": []
  },
  {
   "cell_type": "markdown",
   "metadata": {},
   "source": [
    "## generators in python"
   ]
  },
  {
   "cell_type": "code",
   "execution_count": 28,
   "metadata": {},
   "outputs": [
    {
     "data": {
      "text/plain": [
       "[1, 2, 3, 4, 5, 6, 7, 8, 9]"
      ]
     },
     "execution_count": 28,
     "metadata": {},
     "output_type": "execute_result"
    }
   ],
   "source": [
    "li=[i for i in range (1,10)]\n",
    "li"
   ]
  },
  {
   "cell_type": "code",
   "execution_count": 31,
   "metadata": {},
   "outputs": [
    {
     "data": {
      "text/plain": [
       "[1, 8, 27, 64, 125, 216, 343, 512, 729]"
      ]
     },
     "execution_count": 31,
     "metadata": {},
     "output_type": "execute_result"
    }
   ],
   "source": [
    "li=[i**3 for i in range (1,10)]\n",
    "li"
   ]
  },
  {
   "cell_type": "code",
   "execution_count": 32,
   "metadata": {},
   "outputs": [
    {
     "data": {
      "text/plain": [
       "[1, 4, 9, 16, 25, 36, 49, 64, 81]"
      ]
     },
     "execution_count": 32,
     "metadata": {},
     "output_type": "execute_result"
    }
   ],
   "source": [
    "li=[i**2 for i in range (1,10)]\n",
    "li"
   ]
  },
  {
   "cell_type": "code",
   "execution_count": 38,
   "metadata": {},
   "outputs": [
    {
     "name": "stdout",
     "output_type": "stream",
     "text": [
      "1 8 27 64 125 216 343 512 729 "
     ]
    }
   ],
   "source": [
    "li=[i**3 for i in range (1,10)]\n",
    "li\n",
    "gn=[i**3 for i in range (1,10)]\n",
    "for i in gn:\n",
    "    print(i,end=' ')"
   ]
  },
  {
   "cell_type": "code",
   "execution_count": null,
   "metadata": {},
   "outputs": [],
   "source": []
  },
  {
   "cell_type": "markdown",
   "metadata": {},
   "source": []
  },
  {
   "cell_type": "code",
   "execution_count": null,
   "metadata": {},
   "outputs": [],
   "source": []
  },
  {
   "cell_type": "code",
   "execution_count": null,
   "metadata": {},
   "outputs": [],
   "source": []
  }
 ],
 "metadata": {
  "kernelspec": {
   "display_name": "Python 3",
   "language": "python",
   "name": "python3"
  },
  "language_info": {
   "codemirror_mode": {
    "name": "ipython",
    "version": 3
   },
   "file_extension": ".py",
   "mimetype": "text/x-python",
   "name": "python",
   "nbconvert_exporter": "python",
   "pygments_lexer": "ipython3",
   "version": "3.7.3"
  }
 },
 "nbformat": 4,
 "nbformat_minor": 2
}
